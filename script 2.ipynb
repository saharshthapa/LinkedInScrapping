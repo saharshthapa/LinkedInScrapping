{
 "cells": [
  {
   "cell_type": "code",
   "execution_count": 31,
   "metadata": {},
   "outputs": [
    {
     "ename": "NoSuchElementException",
     "evalue": "Message: no such element: Unable to locate element: {\"method\":\"xpath\",\"selector\":\"//*[@data-test-search-bar=\"SUGGESTION_people\"]\"}\n  (Session info: chrome=120.0.6099.224); For documentation on this error, please visit: https://www.selenium.dev/documentation/webdriver/troubleshooting/errors#no-such-element-exception\nStacktrace:\n\tGetHandleVerifier [0x00C36EE3+174339]\n\t(No symbol) [0x00B60A51]\n\t(No symbol) [0x00876FF6]\n\t(No symbol) [0x008A9876]\n\t(No symbol) [0x008A9C2C]\n\t(No symbol) [0x008DBD42]\n\t(No symbol) [0x008C7054]\n\t(No symbol) [0x008DA104]\n\t(No symbol) [0x008C6DA6]\n\t(No symbol) [0x008A1034]\n\t(No symbol) [0x008A1F8D]\n\tGetHandleVerifier [0x00CD4B1C+820540]\n\tsqlite3_dbdata_init [0x00D953EE+653550]\n\tsqlite3_dbdata_init [0x00D94E09+652041]\n\tsqlite3_dbdata_init [0x00D897CC+605388]\n\tsqlite3_dbdata_init [0x00D95D9B+656027]\n\t(No symbol) [0x00B6FE6C]\n\t(No symbol) [0x00B683B8]\n\t(No symbol) [0x00B684DD]\n\t(No symbol) [0x00B55818]\n\tBaseThreadInitThunk [0x768F7BA9+25]\n\tRtlInitializeExceptionChain [0x7750BD2B+107]\n\tRtlClearBits [0x7750BCAF+191]\n",
     "output_type": "error",
     "traceback": [
      "\u001b[1;31m---------------------------------------------------------------------------\u001b[0m",
      "\u001b[1;31mNoSuchElementException\u001b[0m                    Traceback (most recent call last)",
      "Cell \u001b[1;32mIn[31], line 35\u001b[0m\n\u001b[0;32m     31\u001b[0m search_field\u001b[38;5;241m.\u001b[39msend_keys(first_name\u001b[38;5;241m+\u001b[39m\u001b[38;5;124m\"\u001b[39m\u001b[38;5;124m \u001b[39m\u001b[38;5;124m\"\u001b[39m\u001b[38;5;241m+\u001b[39mlast_name)\n\u001b[0;32m     33\u001b[0m search_field\u001b[38;5;241m.\u001b[39msend_keys(Keys\u001b[38;5;241m.\u001b[39mRETURN)\n\u001b[1;32m---> 35\u001b[0m people_button \u001b[38;5;241m=\u001b[39m \u001b[43mdriver\u001b[49m\u001b[38;5;241;43m.\u001b[39;49m\u001b[43mfind_element\u001b[49m\u001b[43m(\u001b[49m\u001b[43mBy\u001b[49m\u001b[38;5;241;43m.\u001b[39;49m\u001b[43mXPATH\u001b[49m\u001b[43m,\u001b[49m\u001b[43m \u001b[49m\u001b[38;5;124;43m'\u001b[39;49m\u001b[38;5;124;43m//*[@data-test-search-bar=\u001b[39;49m\u001b[38;5;124;43m\"\u001b[39;49m\u001b[38;5;124;43mSUGGESTION_people\u001b[39;49m\u001b[38;5;124;43m\"\u001b[39;49m\u001b[38;5;124;43m]\u001b[39;49m\u001b[38;5;124;43m'\u001b[39;49m\u001b[43m)\u001b[49m\n\u001b[0;32m     36\u001b[0m people_button\u001b[38;5;241m.\u001b[39mclick()\n",
      "File \u001b[1;32mc:\\Users\\SAHARSH THAPA\\anaconda3\\envs\\drowsiness3.10\\lib\\site-packages\\selenium\\webdriver\\remote\\webdriver.py:742\u001b[0m, in \u001b[0;36mWebDriver.find_element\u001b[1;34m(self, by, value)\u001b[0m\n\u001b[0;32m    739\u001b[0m     by \u001b[38;5;241m=\u001b[39m By\u001b[38;5;241m.\u001b[39mCSS_SELECTOR\n\u001b[0;32m    740\u001b[0m     value \u001b[38;5;241m=\u001b[39m \u001b[38;5;124mf\u001b[39m\u001b[38;5;124m'\u001b[39m\u001b[38;5;124m[name=\u001b[39m\u001b[38;5;124m\"\u001b[39m\u001b[38;5;132;01m{\u001b[39;00mvalue\u001b[38;5;132;01m}\u001b[39;00m\u001b[38;5;124m\"\u001b[39m\u001b[38;5;124m]\u001b[39m\u001b[38;5;124m'\u001b[39m\n\u001b[1;32m--> 742\u001b[0m \u001b[38;5;28;01mreturn\u001b[39;00m \u001b[38;5;28;43mself\u001b[39;49m\u001b[38;5;241;43m.\u001b[39;49m\u001b[43mexecute\u001b[49m\u001b[43m(\u001b[49m\u001b[43mCommand\u001b[49m\u001b[38;5;241;43m.\u001b[39;49m\u001b[43mFIND_ELEMENT\u001b[49m\u001b[43m,\u001b[49m\u001b[43m \u001b[49m\u001b[43m{\u001b[49m\u001b[38;5;124;43m\"\u001b[39;49m\u001b[38;5;124;43musing\u001b[39;49m\u001b[38;5;124;43m\"\u001b[39;49m\u001b[43m:\u001b[49m\u001b[43m \u001b[49m\u001b[43mby\u001b[49m\u001b[43m,\u001b[49m\u001b[43m \u001b[49m\u001b[38;5;124;43m\"\u001b[39;49m\u001b[38;5;124;43mvalue\u001b[39;49m\u001b[38;5;124;43m\"\u001b[39;49m\u001b[43m:\u001b[49m\u001b[43m \u001b[49m\u001b[43mvalue\u001b[49m\u001b[43m}\u001b[49m\u001b[43m)\u001b[49m[\u001b[38;5;124m\"\u001b[39m\u001b[38;5;124mvalue\u001b[39m\u001b[38;5;124m\"\u001b[39m]\n",
      "File \u001b[1;32mc:\\Users\\SAHARSH THAPA\\anaconda3\\envs\\drowsiness3.10\\lib\\site-packages\\selenium\\webdriver\\remote\\webdriver.py:348\u001b[0m, in \u001b[0;36mWebDriver.execute\u001b[1;34m(self, driver_command, params)\u001b[0m\n\u001b[0;32m    346\u001b[0m response \u001b[38;5;241m=\u001b[39m \u001b[38;5;28mself\u001b[39m\u001b[38;5;241m.\u001b[39mcommand_executor\u001b[38;5;241m.\u001b[39mexecute(driver_command, params)\n\u001b[0;32m    347\u001b[0m \u001b[38;5;28;01mif\u001b[39;00m response:\n\u001b[1;32m--> 348\u001b[0m     \u001b[38;5;28;43mself\u001b[39;49m\u001b[38;5;241;43m.\u001b[39;49m\u001b[43merror_handler\u001b[49m\u001b[38;5;241;43m.\u001b[39;49m\u001b[43mcheck_response\u001b[49m\u001b[43m(\u001b[49m\u001b[43mresponse\u001b[49m\u001b[43m)\u001b[49m\n\u001b[0;32m    349\u001b[0m     response[\u001b[38;5;124m\"\u001b[39m\u001b[38;5;124mvalue\u001b[39m\u001b[38;5;124m\"\u001b[39m] \u001b[38;5;241m=\u001b[39m \u001b[38;5;28mself\u001b[39m\u001b[38;5;241m.\u001b[39m_unwrap_value(response\u001b[38;5;241m.\u001b[39mget(\u001b[38;5;124m\"\u001b[39m\u001b[38;5;124mvalue\u001b[39m\u001b[38;5;124m\"\u001b[39m, \u001b[38;5;28;01mNone\u001b[39;00m))\n\u001b[0;32m    350\u001b[0m     \u001b[38;5;28;01mreturn\u001b[39;00m response\n",
      "File \u001b[1;32mc:\\Users\\SAHARSH THAPA\\anaconda3\\envs\\drowsiness3.10\\lib\\site-packages\\selenium\\webdriver\\remote\\errorhandler.py:229\u001b[0m, in \u001b[0;36mErrorHandler.check_response\u001b[1;34m(self, response)\u001b[0m\n\u001b[0;32m    227\u001b[0m         alert_text \u001b[38;5;241m=\u001b[39m value[\u001b[38;5;124m\"\u001b[39m\u001b[38;5;124malert\u001b[39m\u001b[38;5;124m\"\u001b[39m]\u001b[38;5;241m.\u001b[39mget(\u001b[38;5;124m\"\u001b[39m\u001b[38;5;124mtext\u001b[39m\u001b[38;5;124m\"\u001b[39m)\n\u001b[0;32m    228\u001b[0m     \u001b[38;5;28;01mraise\u001b[39;00m exception_class(message, screen, stacktrace, alert_text)  \u001b[38;5;66;03m# type: ignore[call-arg]  # mypy is not smart enough here\u001b[39;00m\n\u001b[1;32m--> 229\u001b[0m \u001b[38;5;28;01mraise\u001b[39;00m exception_class(message, screen, stacktrace)\n",
      "\u001b[1;31mNoSuchElementException\u001b[0m: Message: no such element: Unable to locate element: {\"method\":\"xpath\",\"selector\":\"//*[@data-test-search-bar=\"SUGGESTION_people\"]\"}\n  (Session info: chrome=120.0.6099.224); For documentation on this error, please visit: https://www.selenium.dev/documentation/webdriver/troubleshooting/errors#no-such-element-exception\nStacktrace:\n\tGetHandleVerifier [0x00C36EE3+174339]\n\t(No symbol) [0x00B60A51]\n\t(No symbol) [0x00876FF6]\n\t(No symbol) [0x008A9876]\n\t(No symbol) [0x008A9C2C]\n\t(No symbol) [0x008DBD42]\n\t(No symbol) [0x008C7054]\n\t(No symbol) [0x008DA104]\n\t(No symbol) [0x008C6DA6]\n\t(No symbol) [0x008A1034]\n\t(No symbol) [0x008A1F8D]\n\tGetHandleVerifier [0x00CD4B1C+820540]\n\tsqlite3_dbdata_init [0x00D953EE+653550]\n\tsqlite3_dbdata_init [0x00D94E09+652041]\n\tsqlite3_dbdata_init [0x00D897CC+605388]\n\tsqlite3_dbdata_init [0x00D95D9B+656027]\n\t(No symbol) [0x00B6FE6C]\n\t(No symbol) [0x00B683B8]\n\t(No symbol) [0x00B684DD]\n\t(No symbol) [0x00B55818]\n\tBaseThreadInitThunk [0x768F7BA9+25]\n\tRtlInitializeExceptionChain [0x7750BD2B+107]\n\tRtlClearBits [0x7750BCAF+191]\n"
     ]
    }
   ],
   "source": [
    "from selenium import webdriver\n",
    "from selenium.webdriver.chrome.service import Service\n",
    "from selenium.webdriver.chrome.options import Options\n",
    "from webdriver_manager.chrome import ChromeDriverManager\n",
    "from selenium.webdriver.common.keys import Keys\n",
    "from selenium.webdriver.common.by import By\n",
    "\n",
    "import time\n",
    "first_name=\"Mahesh\"\n",
    "last_name=\"Agarwal\"\n",
    "options=Options()\n",
    "options.add_experimental_option(\"detach\",True)\n",
    "\n",
    "driver= webdriver.Chrome(service=Service(ChromeDriverManager().install()),options=options)\n",
    "\n",
    "driver.get(\"https://www.linkedin.com\")\n",
    "driver.maximize_window()\n",
    "# Finding the login tab\n",
    "username_input = driver.find_element(\"name\", \"session_key\")\n",
    "password_input = driver.find_element(\"name\", \"session_password\")\n",
    "\n",
    "username_input.send_keys(\"inayatsu@gmail.com\")\n",
    "password_input.send_keys(\"Ireign@123\")  \n",
    "\n",
    "# Loggin In\n",
    "password_input.send_keys(Keys.RETURN)\n",
    "\n",
    "#Find the search bar\n",
    "search_field = driver.find_element(By.XPATH, '//*[@id=\"global-nav-typeahead\"]/input')\n",
    "\n",
    "search_field.send_keys(first_name+\" \"+last_name)\n",
    "\n",
    "search_field.send_keys(Keys.RETURN)\n",
    "\n",
    "people_button = driver.find_element(By.XPATH, '//*[@data-test-search-bar=\"SUGGESTION_people\"]')\n",
    "people_button.click()\n"
   ]
  }
 ],
 "metadata": {
  "kernelspec": {
   "display_name": "drowsiness3.10",
   "language": "python",
   "name": "python3"
  },
  "language_info": {
   "codemirror_mode": {
    "name": "ipython",
    "version": 3
   },
   "file_extension": ".py",
   "mimetype": "text/x-python",
   "name": "python",
   "nbconvert_exporter": "python",
   "pygments_lexer": "ipython3",
   "version": "3.10.8"
  }
 },
 "nbformat": 4,
 "nbformat_minor": 2
}
