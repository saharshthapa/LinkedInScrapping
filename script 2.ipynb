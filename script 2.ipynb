{
 "cells": [
  {
   "cell_type": "code",
   "execution_count": 35,
   "metadata": {},
   "outputs": [
    {
     "name": "stdout",
     "output_type": "stream",
     "text": [
      "[]\n"
     ]
    }
   ],
   "source": [
    "from selenium import webdriver\n",
    "from selenium.webdriver.chrome.service import Service\n",
    "from selenium.webdriver.chrome.options import Options\n",
    "from webdriver_manager.chrome import ChromeDriverManager\n",
    "from selenium.webdriver.common.keys import Keys\n",
    "from selenium.webdriver.common.by import By\n",
    "import time\n",
    "import requests\n",
    "from bs4 import BeautifulSoup\n",
    "\n",
    "\n",
    "class LinkedInScraper:\n",
    "    #Initializing the driver for selenium\n",
    "\n",
    "    def __init__(self):\n",
    "        self.options = Options()\n",
    "        self.options.add_experimental_option(\"detach\", True)\n",
    "        self.driver = webdriver.Chrome(service=Service(ChromeDriverManager().install()), options=self.options)\n",
    "\n",
    "    #Opening Linkedin and loggin in \n",
    "        \n",
    "    def login(self, email, password):\n",
    "        self.driver.get(\"https://www.linkedin.com\")\n",
    "        self.driver.maximize_window()\n",
    "\n",
    "        email_input = self.driver.find_element(By.NAME, \"session_key\") \n",
    "        password_input = self.driver.find_element(By.NAME, \"session_password\")\n",
    "\n",
    "        email_input.send_keys(email)\n",
    "        password_input.send_keys(password)\n",
    "        password_input.send_keys(Keys.RETURN)\n",
    "\n",
    "    def search(self, first_name, last_name):\n",
    "        search_field = self.driver.find_element(By.XPATH, '//*[@id=\"global-nav-typeahead\"]/input') #we use inspect to find the XPath of the search bar\n",
    "        search_field.send_keys(first_name + \" \" + last_name) #Send First name and Last name as input\n",
    "        search_field.send_keys(Keys.RETURN)\n",
    "\n",
    "        time.sleep(5)\n",
    "\n",
    "        button = self.driver.find_element(By.XPATH, '//*[@id=\"search-reusables__filters-bar\"]/ul/li[1]/button').click()#Clicking on the People button to show all possible results \n",
    "        \n",
    "        self.driver.implicitly_wait(10)\n",
    "        profile_link=self.driver.find_elements(By.CLASS_NAME,'app-aware-link  scale-down ') #app-aware-link scale-down seems to be the class where the link of the profile is located\n",
    "\n",
    "        print(profile_link)\n",
    "        \n",
    "        source= self.driver.page_source\n",
    "\n",
    "        return source\n",
    "        \n",
    "        #elems = self.driver.find_elements(By.XPATH,'//a[@href]')\n",
    "        #for elem in elems:\n",
    "            #print(elem.get_attribute(\"href\"))\n",
    "\n",
    "    def close(self):\n",
    "        self.driver.quit()\n",
    "\n",
    "linkedin_scraper = LinkedInScraper()\n",
    "linkedin_scraper.login(\"saharshthapa@science.christuniversity.in\", \"50@Cent\")\n",
    "extract_url=linkedin_scraper.search(\"Mahesh\", \"Agarwal\")\n",
    "\n",
    "soup = BeautifulSoup(extract_url, 'html.parser')\n",
    "#still app-aware-link scale-down is not present here"
   ]
  },
  {
   "cell_type": "code",
   "execution_count": 38,
   "metadata": {},
   "outputs": [
    {
     "name": "stdout",
     "output_type": "stream",
     "text": [
      "Anchor element not found.\n"
     ]
    }
   ],
   "source": [
    "\n",
    "profile_links = soup.select('app-aware-link  scale-down ')\n",
    "a_element = soup.find('a', class_='app-aware-link  scale-down ')\n",
    "if a_element:\n",
    "    href_value = a_element.get('href')\n",
    "    print(\"Href Value:\", href_value)\n",
    "else:\n",
    "    print(\"Anchor element not found.\")\n",
    "\n",
    "\n"
   ]
  }
 ],
 "metadata": {
  "kernelspec": {
   "display_name": "drowsiness3.10",
   "language": "python",
   "name": "python3"
  },
  "language_info": {
   "codemirror_mode": {
    "name": "ipython",
    "version": 3
   },
   "file_extension": ".py",
   "mimetype": "text/x-python",
   "name": "python",
   "nbconvert_exporter": "python",
   "pygments_lexer": "ipython3",
   "version": "3.10.8"
  }
 },
 "nbformat": 4,
 "nbformat_minor": 2
}
